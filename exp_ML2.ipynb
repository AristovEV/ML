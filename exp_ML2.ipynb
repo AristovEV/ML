{
 "cells": [
  {
   "cell_type": "markdown",
   "metadata": {
    "toc": true
   },
   "source": [
    "<h1>Table of Contents<span class=\"tocSkip\"></span></h1>\n",
    "<div class=\"toc\"><ul class=\"toc-item\"></ul></div>"
   ]
  },
  {
   "cell_type": "code",
   "execution_count": 2,
   "metadata": {},
   "outputs": [],
   "source": [
    "import pandas as pd\n",
    "import numpy as np\n",
    "from sklearn.model_selection import train_test_split, cross_val_score, ShuffleSplit\n",
    "import matplotlib.pyplot as plt\n",
    "from sklearn.preprocessing import LabelEncoder,OneHotEncoder\n",
    "from sklearn.metrics import mean_squared_error, accuracy_score, precision_score, recall_score, f1_score, roc_auc_score, roc_curve,auc, fbeta_score\n",
    "from sklearn import ensemble"
   ]
  },
  {
   "cell_type": "code",
   "execution_count": 3,
   "metadata": {},
   "outputs": [],
   "source": [
    "df=pd.read_csv(r'C:\\Users\\kisaz\\OneDrive\\Рабочий стол\\sber\\ML\\DA_2\\Lec2\\titanicdf.csv')"
   ]
  },
  {
   "cell_type": "code",
   "execution_count": 4,
   "metadata": {},
   "outputs": [],
   "source": [
    "def welcome (df):\n",
    "    '''Функция получения первичной информации о датафрейме'''\n",
    "    print ('------------- Первые 5 строк ------------')\n",
    "    display(df.head())\n",
    "    print('')\n",
    "    print('')\n",
    "    print ('------------- Типы данных ------------')\n",
    "    print (df.info())\n",
    "    print('')\n",
    "    print('')\n",
    "    print ('------------- Пропуски ------------')\n",
    "    count = 0\n",
    "    for element in df.columns:\n",
    "        if df[element].isna().sum() > 0:\n",
    "            print(element, ' - ', df[element].isna().sum(), 'пропусков')\n",
    "            count = +1\n",
    "        if count == 0:\n",
    "            print('Пропусков НЕТ')\n",
    "    print('')\n",
    "    print('')\n",
    "    display(pd.DataFrame(round(df.isna().mean()*100)).style.background_gradient('coolwarm'))"
   ]
  },
  {
   "cell_type": "code",
   "execution_count": 5,
   "metadata": {},
   "outputs": [
    {
     "name": "stdout",
     "output_type": "stream",
     "text": [
      "------------- Первые 5 строк ------------\n"
     ]
    },
    {
     "data": {
      "text/html": [
       "<div>\n",
       "<style scoped>\n",
       "    .dataframe tbody tr th:only-of-type {\n",
       "        vertical-align: middle;\n",
       "    }\n",
       "\n",
       "    .dataframe tbody tr th {\n",
       "        vertical-align: top;\n",
       "    }\n",
       "\n",
       "    .dataframe thead th {\n",
       "        text-align: right;\n",
       "    }\n",
       "</style>\n",
       "<table border=\"1\" class=\"dataframe\">\n",
       "  <thead>\n",
       "    <tr style=\"text-align: right;\">\n",
       "      <th></th>\n",
       "      <th>PassengerId</th>\n",
       "      <th>Survived</th>\n",
       "      <th>Pclass</th>\n",
       "      <th>Name</th>\n",
       "      <th>Sex</th>\n",
       "      <th>Age</th>\n",
       "      <th>SibSp</th>\n",
       "      <th>Parch</th>\n",
       "      <th>Ticket</th>\n",
       "      <th>Fare</th>\n",
       "      <th>Cabin</th>\n",
       "      <th>Embarked</th>\n",
       "    </tr>\n",
       "  </thead>\n",
       "  <tbody>\n",
       "    <tr>\n",
       "      <th>0</th>\n",
       "      <td>1</td>\n",
       "      <td>0</td>\n",
       "      <td>3</td>\n",
       "      <td>Braund, Mr. Owen Harris</td>\n",
       "      <td>male</td>\n",
       "      <td>22.0</td>\n",
       "      <td>1</td>\n",
       "      <td>0</td>\n",
       "      <td>A/5 21171</td>\n",
       "      <td>7.2500</td>\n",
       "      <td>NaN</td>\n",
       "      <td>S</td>\n",
       "    </tr>\n",
       "    <tr>\n",
       "      <th>1</th>\n",
       "      <td>2</td>\n",
       "      <td>1</td>\n",
       "      <td>1</td>\n",
       "      <td>Cumings, Mrs. John Bradley (Florence Briggs Th...</td>\n",
       "      <td>female</td>\n",
       "      <td>38.0</td>\n",
       "      <td>1</td>\n",
       "      <td>0</td>\n",
       "      <td>PC 17599</td>\n",
       "      <td>71.2833</td>\n",
       "      <td>C85</td>\n",
       "      <td>C</td>\n",
       "    </tr>\n",
       "    <tr>\n",
       "      <th>2</th>\n",
       "      <td>3</td>\n",
       "      <td>1</td>\n",
       "      <td>3</td>\n",
       "      <td>Heikkinen, Miss. Laina</td>\n",
       "      <td>female</td>\n",
       "      <td>26.0</td>\n",
       "      <td>0</td>\n",
       "      <td>0</td>\n",
       "      <td>STON/O2. 3101282</td>\n",
       "      <td>7.9250</td>\n",
       "      <td>NaN</td>\n",
       "      <td>S</td>\n",
       "    </tr>\n",
       "    <tr>\n",
       "      <th>3</th>\n",
       "      <td>4</td>\n",
       "      <td>1</td>\n",
       "      <td>1</td>\n",
       "      <td>Futrelle, Mrs. Jacques Heath (Lily May Peel)</td>\n",
       "      <td>female</td>\n",
       "      <td>35.0</td>\n",
       "      <td>1</td>\n",
       "      <td>0</td>\n",
       "      <td>113803</td>\n",
       "      <td>53.1000</td>\n",
       "      <td>C123</td>\n",
       "      <td>S</td>\n",
       "    </tr>\n",
       "    <tr>\n",
       "      <th>4</th>\n",
       "      <td>5</td>\n",
       "      <td>0</td>\n",
       "      <td>3</td>\n",
       "      <td>Allen, Mr. William Henry</td>\n",
       "      <td>male</td>\n",
       "      <td>35.0</td>\n",
       "      <td>0</td>\n",
       "      <td>0</td>\n",
       "      <td>373450</td>\n",
       "      <td>8.0500</td>\n",
       "      <td>NaN</td>\n",
       "      <td>S</td>\n",
       "    </tr>\n",
       "  </tbody>\n",
       "</table>\n",
       "</div>"
      ],
      "text/plain": [
       "   PassengerId  Survived  Pclass  \\\n",
       "0            1         0       3   \n",
       "1            2         1       1   \n",
       "2            3         1       3   \n",
       "3            4         1       1   \n",
       "4            5         0       3   \n",
       "\n",
       "                                                Name     Sex   Age  SibSp  \\\n",
       "0                            Braund, Mr. Owen Harris    male  22.0      1   \n",
       "1  Cumings, Mrs. John Bradley (Florence Briggs Th...  female  38.0      1   \n",
       "2                             Heikkinen, Miss. Laina  female  26.0      0   \n",
       "3       Futrelle, Mrs. Jacques Heath (Lily May Peel)  female  35.0      1   \n",
       "4                           Allen, Mr. William Henry    male  35.0      0   \n",
       "\n",
       "   Parch            Ticket     Fare Cabin Embarked  \n",
       "0      0         A/5 21171   7.2500   NaN        S  \n",
       "1      0          PC 17599  71.2833   C85        C  \n",
       "2      0  STON/O2. 3101282   7.9250   NaN        S  \n",
       "3      0            113803  53.1000  C123        S  \n",
       "4      0            373450   8.0500   NaN        S  "
      ]
     },
     "metadata": {},
     "output_type": "display_data"
    },
    {
     "name": "stdout",
     "output_type": "stream",
     "text": [
      "\n",
      "\n",
      "------------- Типы данных ------------\n",
      "<class 'pandas.core.frame.DataFrame'>\n",
      "RangeIndex: 891 entries, 0 to 890\n",
      "Data columns (total 12 columns):\n",
      " #   Column       Non-Null Count  Dtype  \n",
      "---  ------       --------------  -----  \n",
      " 0   PassengerId  891 non-null    int64  \n",
      " 1   Survived     891 non-null    int64  \n",
      " 2   Pclass       891 non-null    int64  \n",
      " 3   Name         891 non-null    object \n",
      " 4   Sex          891 non-null    object \n",
      " 5   Age          714 non-null    float64\n",
      " 6   SibSp        891 non-null    int64  \n",
      " 7   Parch        891 non-null    int64  \n",
      " 8   Ticket       891 non-null    object \n",
      " 9   Fare         891 non-null    float64\n",
      " 10  Cabin        204 non-null    object \n",
      " 11  Embarked     889 non-null    object \n",
      "dtypes: float64(2), int64(5), object(5)\n",
      "memory usage: 83.7+ KB\n",
      "None\n",
      "\n",
      "\n",
      "------------- Пропуски ------------\n",
      "Пропусков НЕТ\n",
      "Пропусков НЕТ\n",
      "Пропусков НЕТ\n",
      "Пропусков НЕТ\n",
      "Пропусков НЕТ\n",
      "Age  -  177 пропусков\n",
      "Cabin  -  687 пропусков\n",
      "Embarked  -  2 пропусков\n",
      "\n",
      "\n"
     ]
    },
    {
     "data": {
      "text/html": [
       "<style  type=\"text/css\" >\n",
       "#T_7baa6146_2a17_11ec_a155_347df60b8df7row0_col0,#T_7baa6146_2a17_11ec_a155_347df60b8df7row1_col0,#T_7baa6146_2a17_11ec_a155_347df60b8df7row2_col0,#T_7baa6146_2a17_11ec_a155_347df60b8df7row3_col0,#T_7baa6146_2a17_11ec_a155_347df60b8df7row4_col0,#T_7baa6146_2a17_11ec_a155_347df60b8df7row6_col0,#T_7baa6146_2a17_11ec_a155_347df60b8df7row7_col0,#T_7baa6146_2a17_11ec_a155_347df60b8df7row8_col0,#T_7baa6146_2a17_11ec_a155_347df60b8df7row9_col0,#T_7baa6146_2a17_11ec_a155_347df60b8df7row11_col0{\n",
       "            background-color:  #3b4cc0;\n",
       "            color:  #f1f1f1;\n",
       "        }#T_7baa6146_2a17_11ec_a155_347df60b8df7row5_col0{\n",
       "            background-color:  #90b2fe;\n",
       "            color:  #000000;\n",
       "        }#T_7baa6146_2a17_11ec_a155_347df60b8df7row10_col0{\n",
       "            background-color:  #b40426;\n",
       "            color:  #f1f1f1;\n",
       "        }</style><table id=\"T_7baa6146_2a17_11ec_a155_347df60b8df7\" ><thead>    <tr>        <th class=\"blank level0\" ></th>        <th class=\"col_heading level0 col0\" >0</th>    </tr></thead><tbody>\n",
       "                <tr>\n",
       "                        <th id=\"T_7baa6146_2a17_11ec_a155_347df60b8df7level0_row0\" class=\"row_heading level0 row0\" >PassengerId</th>\n",
       "                        <td id=\"T_7baa6146_2a17_11ec_a155_347df60b8df7row0_col0\" class=\"data row0 col0\" >0.000000</td>\n",
       "            </tr>\n",
       "            <tr>\n",
       "                        <th id=\"T_7baa6146_2a17_11ec_a155_347df60b8df7level0_row1\" class=\"row_heading level0 row1\" >Survived</th>\n",
       "                        <td id=\"T_7baa6146_2a17_11ec_a155_347df60b8df7row1_col0\" class=\"data row1 col0\" >0.000000</td>\n",
       "            </tr>\n",
       "            <tr>\n",
       "                        <th id=\"T_7baa6146_2a17_11ec_a155_347df60b8df7level0_row2\" class=\"row_heading level0 row2\" >Pclass</th>\n",
       "                        <td id=\"T_7baa6146_2a17_11ec_a155_347df60b8df7row2_col0\" class=\"data row2 col0\" >0.000000</td>\n",
       "            </tr>\n",
       "            <tr>\n",
       "                        <th id=\"T_7baa6146_2a17_11ec_a155_347df60b8df7level0_row3\" class=\"row_heading level0 row3\" >Name</th>\n",
       "                        <td id=\"T_7baa6146_2a17_11ec_a155_347df60b8df7row3_col0\" class=\"data row3 col0\" >0.000000</td>\n",
       "            </tr>\n",
       "            <tr>\n",
       "                        <th id=\"T_7baa6146_2a17_11ec_a155_347df60b8df7level0_row4\" class=\"row_heading level0 row4\" >Sex</th>\n",
       "                        <td id=\"T_7baa6146_2a17_11ec_a155_347df60b8df7row4_col0\" class=\"data row4 col0\" >0.000000</td>\n",
       "            </tr>\n",
       "            <tr>\n",
       "                        <th id=\"T_7baa6146_2a17_11ec_a155_347df60b8df7level0_row5\" class=\"row_heading level0 row5\" >Age</th>\n",
       "                        <td id=\"T_7baa6146_2a17_11ec_a155_347df60b8df7row5_col0\" class=\"data row5 col0\" >20.000000</td>\n",
       "            </tr>\n",
       "            <tr>\n",
       "                        <th id=\"T_7baa6146_2a17_11ec_a155_347df60b8df7level0_row6\" class=\"row_heading level0 row6\" >SibSp</th>\n",
       "                        <td id=\"T_7baa6146_2a17_11ec_a155_347df60b8df7row6_col0\" class=\"data row6 col0\" >0.000000</td>\n",
       "            </tr>\n",
       "            <tr>\n",
       "                        <th id=\"T_7baa6146_2a17_11ec_a155_347df60b8df7level0_row7\" class=\"row_heading level0 row7\" >Parch</th>\n",
       "                        <td id=\"T_7baa6146_2a17_11ec_a155_347df60b8df7row7_col0\" class=\"data row7 col0\" >0.000000</td>\n",
       "            </tr>\n",
       "            <tr>\n",
       "                        <th id=\"T_7baa6146_2a17_11ec_a155_347df60b8df7level0_row8\" class=\"row_heading level0 row8\" >Ticket</th>\n",
       "                        <td id=\"T_7baa6146_2a17_11ec_a155_347df60b8df7row8_col0\" class=\"data row8 col0\" >0.000000</td>\n",
       "            </tr>\n",
       "            <tr>\n",
       "                        <th id=\"T_7baa6146_2a17_11ec_a155_347df60b8df7level0_row9\" class=\"row_heading level0 row9\" >Fare</th>\n",
       "                        <td id=\"T_7baa6146_2a17_11ec_a155_347df60b8df7row9_col0\" class=\"data row9 col0\" >0.000000</td>\n",
       "            </tr>\n",
       "            <tr>\n",
       "                        <th id=\"T_7baa6146_2a17_11ec_a155_347df60b8df7level0_row10\" class=\"row_heading level0 row10\" >Cabin</th>\n",
       "                        <td id=\"T_7baa6146_2a17_11ec_a155_347df60b8df7row10_col0\" class=\"data row10 col0\" >77.000000</td>\n",
       "            </tr>\n",
       "            <tr>\n",
       "                        <th id=\"T_7baa6146_2a17_11ec_a155_347df60b8df7level0_row11\" class=\"row_heading level0 row11\" >Embarked</th>\n",
       "                        <td id=\"T_7baa6146_2a17_11ec_a155_347df60b8df7row11_col0\" class=\"data row11 col0\" >0.000000</td>\n",
       "            </tr>\n",
       "    </tbody></table>"
      ],
      "text/plain": [
       "<pandas.io.formats.style.Styler at 0x21e61ee9460>"
      ]
     },
     "metadata": {},
     "output_type": "display_data"
    }
   ],
   "source": [
    "welcome(df)"
   ]
  },
  {
   "cell_type": "code",
   "execution_count": 6,
   "metadata": {},
   "outputs": [],
   "source": [
    "new_df = pd.get_dummies(data=df, columns=['Pclass', 'Sex','Embarked'])"
   ]
  },
  {
   "cell_type": "code",
   "execution_count": 7,
   "metadata": {},
   "outputs": [],
   "source": [
    "tr_df=new_df.drop(['Name','Ticket','Cabin'],axis=1)"
   ]
  },
  {
   "cell_type": "code",
   "execution_count": 8,
   "metadata": {},
   "outputs": [],
   "source": [
    "tr_df.dropna(inplace=True)"
   ]
  },
  {
   "cell_type": "code",
   "execution_count": 9,
   "metadata": {},
   "outputs": [],
   "source": [
    "x = tr_df.drop('Age',axis=1)\n",
    "y = tr_df['Age']"
   ]
  },
  {
   "cell_type": "code",
   "execution_count": 10,
   "metadata": {},
   "outputs": [],
   "source": [
    "X_train, X_test, y_train, y_test = train_test_split(x,y, test_size=0.3, random_state=666)"
   ]
  },
  {
   "cell_type": "code",
   "execution_count": 11,
   "metadata": {},
   "outputs": [],
   "source": [
    "from sklearn.linear_model import LinearRegression"
   ]
  },
  {
   "cell_type": "code",
   "execution_count": 12,
   "metadata": {},
   "outputs": [],
   "source": [
    "model_lr = LinearRegression()"
   ]
  },
  {
   "cell_type": "code",
   "execution_count": 13,
   "metadata": {},
   "outputs": [],
   "source": [
    "tr_df=new_df.drop(['Name','Ticket','Cabin'],axis=1)"
   ]
  },
  {
   "cell_type": "code",
   "execution_count": 14,
   "metadata": {},
   "outputs": [
    {
     "data": {
      "text/plain": [
       "LinearRegression()"
      ]
     },
     "execution_count": 14,
     "metadata": {},
     "output_type": "execute_result"
    }
   ],
   "source": [
    "model_lr.fit(X_train,y_train)"
   ]
  },
  {
   "cell_type": "code",
   "execution_count": 15,
   "metadata": {},
   "outputs": [],
   "source": [
    "pred = model_lr.predict(X_test)"
   ]
  },
  {
   "cell_type": "code",
   "execution_count": 16,
   "metadata": {},
   "outputs": [],
   "source": [
    "tr_df['Age'].fillna(pred.mean(),inplace=True)"
   ]
  },
  {
   "cell_type": "code",
   "execution_count": 17,
   "metadata": {},
   "outputs": [],
   "source": [
    "x = tr_df.drop('Survived',axis=1)\n",
    "y = tr_df['Survived']"
   ]
  },
  {
   "cell_type": "code",
   "execution_count": 18,
   "metadata": {},
   "outputs": [],
   "source": [
    "X_train, X_test, y_train, y_test = train_test_split(tr_df.drop('Survived',axis=1), tr_df['Survived'], test_size=0.33, random_state=42)"
   ]
  },
  {
   "cell_type": "code",
   "execution_count": 20,
   "metadata": {},
   "outputs": [],
   "source": [
    "test_deep = []\n",
    "for deep in range (1,31):\n",
    "  for est in range (20,100):\n",
    "    for leaf in range (1,5):\n",
    "    # print(\"--------\", deep, \"--------\", leaf)\n",
    "        rc=ensemble.RandomForestClassifier(max_depth=deep,min_samples_leaf=leaf, n_estimators=est)\n",
    "        model = rc.fit(X_train, y_train)\n",
    "        pred1 = model.predict(X_test)\n",
    "        test_deep.append([deep,leaf,est,f1_score(y_test,pred1),recall_score(y_test,pred1)])"
   ]
  },
  {
   "cell_type": "code",
   "execution_count": 21,
   "metadata": {},
   "outputs": [],
   "source": [
    "test_deep = pd.DataFrame(test_deep)\n",
    "test_deep.columns = ['tree_depth','leaf','n_estimators','f1_score','recall_score']\n",
    "# test_deep.sort_values(by='f1_score',ascending=False).head()"
   ]
  },
  {
   "cell_type": "code",
   "execution_count": 22,
   "metadata": {},
   "outputs": [
    {
     "data": {
      "text/html": [
       "<div>\n",
       "<style scoped>\n",
       "    .dataframe tbody tr th:only-of-type {\n",
       "        vertical-align: middle;\n",
       "    }\n",
       "\n",
       "    .dataframe tbody tr th {\n",
       "        vertical-align: top;\n",
       "    }\n",
       "\n",
       "    .dataframe thead th {\n",
       "        text-align: right;\n",
       "    }\n",
       "</style>\n",
       "<table border=\"1\" class=\"dataframe\">\n",
       "  <thead>\n",
       "    <tr style=\"text-align: right;\">\n",
       "      <th></th>\n",
       "      <th>tree_depth</th>\n",
       "      <th>leaf</th>\n",
       "      <th>n_estimators</th>\n",
       "      <th>f1_score</th>\n",
       "      <th>recall_score</th>\n",
       "    </tr>\n",
       "  </thead>\n",
       "  <tbody>\n",
       "    <tr>\n",
       "      <th>9493</th>\n",
       "      <td>30</td>\n",
       "      <td>2</td>\n",
       "      <td>73</td>\n",
       "      <td>0.788991</td>\n",
       "      <td>0.716667</td>\n",
       "    </tr>\n",
       "    <tr>\n",
       "      <th>5769</th>\n",
       "      <td>19</td>\n",
       "      <td>2</td>\n",
       "      <td>22</td>\n",
       "      <td>0.787330</td>\n",
       "      <td>0.725000</td>\n",
       "    </tr>\n",
       "    <tr>\n",
       "      <th>6406</th>\n",
       "      <td>21</td>\n",
       "      <td>3</td>\n",
       "      <td>21</td>\n",
       "      <td>0.785388</td>\n",
       "      <td>0.716667</td>\n",
       "    </tr>\n",
       "    <tr>\n",
       "      <th>5496</th>\n",
       "      <td>18</td>\n",
       "      <td>1</td>\n",
       "      <td>34</td>\n",
       "      <td>0.783410</td>\n",
       "      <td>0.708333</td>\n",
       "    </tr>\n",
       "    <tr>\n",
       "      <th>6172</th>\n",
       "      <td>20</td>\n",
       "      <td>1</td>\n",
       "      <td>43</td>\n",
       "      <td>0.781818</td>\n",
       "      <td>0.716667</td>\n",
       "    </tr>\n",
       "    <tr>\n",
       "      <th>8961</th>\n",
       "      <td>29</td>\n",
       "      <td>2</td>\n",
       "      <td>20</td>\n",
       "      <td>0.781818</td>\n",
       "      <td>0.716667</td>\n",
       "    </tr>\n",
       "    <tr>\n",
       "      <th>8460</th>\n",
       "      <td>27</td>\n",
       "      <td>1</td>\n",
       "      <td>55</td>\n",
       "      <td>0.779817</td>\n",
       "      <td>0.708333</td>\n",
       "    </tr>\n",
       "    <tr>\n",
       "      <th>4204</th>\n",
       "      <td>14</td>\n",
       "      <td>1</td>\n",
       "      <td>31</td>\n",
       "      <td>0.779817</td>\n",
       "      <td>0.708333</td>\n",
       "    </tr>\n",
       "    <tr>\n",
       "      <th>3960</th>\n",
       "      <td>13</td>\n",
       "      <td>1</td>\n",
       "      <td>50</td>\n",
       "      <td>0.778281</td>\n",
       "      <td>0.716667</td>\n",
       "    </tr>\n",
       "    <tr>\n",
       "      <th>4820</th>\n",
       "      <td>16</td>\n",
       "      <td>1</td>\n",
       "      <td>25</td>\n",
       "      <td>0.778281</td>\n",
       "      <td>0.716667</td>\n",
       "    </tr>\n",
       "  </tbody>\n",
       "</table>\n",
       "</div>"
      ],
      "text/plain": [
       "      tree_depth  leaf  n_estimators  f1_score  recall_score\n",
       "9493          30     2            73  0.788991      0.716667\n",
       "5769          19     2            22  0.787330      0.725000\n",
       "6406          21     3            21  0.785388      0.716667\n",
       "5496          18     1            34  0.783410      0.708333\n",
       "6172          20     1            43  0.781818      0.716667\n",
       "8961          29     2            20  0.781818      0.716667\n",
       "8460          27     1            55  0.779817      0.708333\n",
       "4204          14     1            31  0.779817      0.708333\n",
       "3960          13     1            50  0.778281      0.716667\n",
       "4820          16     1            25  0.778281      0.716667"
      ]
     },
     "execution_count": 22,
     "metadata": {},
     "output_type": "execute_result"
    }
   ],
   "source": [
    "test_deep.sort_values(by='f1_score',ascending=False).head(10)"
   ]
  },
  {
   "cell_type": "code",
   "execution_count": 23,
   "metadata": {},
   "outputs": [],
   "source": [
    "from sklearn import ensemble\n",
    "rc=ensemble.RandomForestClassifier(max_depth=30,n_estimators=73,min_samples_leaf=2,criterion=\"entropy\")\n",
    "#rc=ensemble.RandomForestClassifier()\n"
   ]
  },
  {
   "cell_type": "code",
   "execution_count": 24,
   "metadata": {},
   "outputs": [],
   "source": [
    "model = rc.fit(X_train, y_train)\n",
    "pred1 = model.predict(X_test)"
   ]
  },
  {
   "cell_type": "code",
   "execution_count": 25,
   "metadata": {},
   "outputs": [],
   "source": [
    "cv = ShuffleSplit(n_splits=10, test_size=0.33, random_state=0)\n",
    "scores = cross_val_score(model, X_train, y_train, cv=cv, scoring='recall')"
   ]
  },
  {
   "cell_type": "code",
   "execution_count": 26,
   "metadata": {},
   "outputs": [
    {
     "data": {
      "text/plain": [
       "0.6554318994125621"
      ]
     },
     "execution_count": 26,
     "metadata": {},
     "output_type": "execute_result"
    }
   ],
   "source": [
    "scores.mean()"
   ]
  },
  {
   "cell_type": "code",
   "execution_count": 27,
   "metadata": {},
   "outputs": [
    {
     "name": "stdout",
     "output_type": "stream",
     "text": [
      "Precision: 0.8297872340425532\n",
      "Recall: 0.65\n",
      "F1: 0.7289719626168223\n"
     ]
    }
   ],
   "source": [
    "\n",
    "print('Precision:',precision_score(y_test,pred1))\n",
    "print('Recall:',recall_score(y_test,pred1))\n",
    "print('F1:',f1_score(y_test,pred1))\n"
   ]
  },
  {
   "cell_type": "code",
   "execution_count": 28,
   "metadata": {},
   "outputs": [],
   "source": [
    "prob=model.predict_proba(X_test)[:,1]"
   ]
  },
  {
   "cell_type": "code",
   "execution_count": 29,
   "metadata": {},
   "outputs": [
    {
     "name": "stdout",
     "output_type": "stream",
     "text": [
      "DecisionTreeClassifier: ROC AUC=0.879\n"
     ]
    }
   ],
   "source": [
    "fpr, tpr, treshold = roc_curve(y_test, prob)\n",
    "tree_auc = roc_auc_score(y_test, prob)\n",
    "print('DecisionTreeClassifier: ROC AUC=%.3f' % (tree_auc))"
   ]
  },
  {
   "cell_type": "code",
   "execution_count": 31,
   "metadata": {},
   "outputs": [
    {
     "data": {
      "image/png": "[encoded data removed]",
      "text/plain": [
       "<Figure size 432x288 with 1 Axes>"
      ]
     },
     "metadata": {
      "needs_background": "light"
     },
     "output_type": "display_data"
    }
   ],
   "source": [
    "roc_auc = auc(fpr, tpr)\n",
    "# строим график\n",
    "plt.plot(fpr, tpr,  color='darkorange',\n",
    "         label='ROC кривая (area = %0.2f)' % roc_auc)\n",
    "plt.plot([0, 1], [0, 1], color='navy', linestyle='--')\n",
    "plt.xlim([0.0, 1.0])\n",
    "plt.ylim([0.0, 1.05])\n",
    "plt.xlabel('False Positive Rate')\n",
    "plt.ylabel('True Positive Rate')\n",
    "plt.title('ROC-кривая')\n",
    "plt.legend(loc=\"lower right\")\n",
    "plt.show()"
   ]
  }
 ],
 "metadata": {
  "kernelspec": {
   "display_name": "Python 3",
   "language": "python",
   "name": "python3"
  },
  "language_info": {
   "codemirror_mode": {
    "name": "ipython",
    "version": 3
   },
   "file_extension": ".py",
   "mimetype": "text/x-python",
   "name": "python",
   "nbconvert_exporter": "python",
   "pygments_lexer": "ipython3",
   "version": "3.8.5"
  },
  "toc": {
   "base_numbering": 1,
   "nav_menu": {},
   "number_sections": true,
   "sideBar": true,
   "skip_h1_title": false,
   "title_cell": "Table of Contents",
   "title_sidebar": "Contents",
   "toc_cell": true,
   "toc_position": {},
   "toc_section_display": true,
   "toc_window_display": false
  }
 },
 "nbformat": 4,
 "nbformat_minor": 4
}
